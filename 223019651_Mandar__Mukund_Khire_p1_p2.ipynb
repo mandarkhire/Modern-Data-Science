{
 "cells": [
  {
   "cell_type": "markdown",
   "metadata": {
    "id": "rPjyb9tkyFM0"
   },
   "source": [
    "# Student ID: 223019651\n",
    "\n",
    "# Student Name: Mandar Mukund Khire\n",
    "\n",
    "# Workshop Session Time: Saturday (09:00 AM to 11:00 AM IST)\n",
    "\n",
    "# Attempted HD Question : Yes"
   ]
  },
  {
   "cell_type": "markdown",
   "metadata": {
    "id": "0Pef3AjKxy9t"
   },
   "source": [
    "## PART I"
   ]
  },
  {
   "cell_type": "markdown",
   "metadata": {
    "id": "FXS1bXn0zFMU"
   },
   "source": [
    "### Answer 1.1"
   ]
  },
  {
   "cell_type": "code",
   "execution_count": 40,
   "metadata": {
    "colab": {
     "base_uri": "https://localhost:8080/"
    },
    "executionInfo": {
     "elapsed": 336,
     "status": "ok",
     "timestamp": 1663439367260,
     "user": {
      "displayName": "Mandar Khire",
      "userId": "16015479337741376859"
     },
     "user_tz": -330
    },
    "id": "kqR25ahkzEO4",
    "outputId": "1ebdf93f-fe56-4912-f093-5b19de9bece3"
   },
   "outputs": [
    {
     "name": "stdout",
     "output_type": "stream",
     "text": [
      "[2, 5, 6, 7, 8, 11, 15, 25, 27, 31, 31, 32, 36, 39, 41, 43, 48, 50, 61, 80, 82]\n",
      "This is the odd length list and median index is: 11\n",
      "Calculated Median Value: 31\n",
      "Index90_Start; 19\n",
      "Index90_End; 21\n",
      "Median Age is: 31\n",
      "Top 90 Age is: 80\n",
      "Top 90 Age is: 82\n"
     ]
    }
   ],
   "source": [
    "## find the median value of age (don’t use numpy);\n",
    "## find the age which is larger than 90% of other ages (don’t use numpy);\n",
    "\n",
    "ages = [5,31,43,48,50,41,7,11,15,39,80,82,32,2,8,6,25,36,27,61,31]\n",
    "\n",
    "## Define a function which will take the list as the argument and return the median of ages (as integer) and top 90% ages (as a list).\n",
    "\n",
    "def CalculateMedianTop90Percent(AgesList = []):\n",
    "\n",
    "  MedianValue = 0 \n",
    "  Top90PercentList = []\n",
    "\n",
    "  ## Sort the list in the ascending order\n",
    "  for i in range(len(AgesList)):\n",
    "    for j in range(i+1,len(AgesList)):\n",
    "      if AgesList[i]>AgesList[j]:\n",
    "        AgesList[i],AgesList[j]=AgesList[j],AgesList[i]\n",
    "      \n",
    "  print (AgesList)\n",
    "  \n",
    "  if (len(AgesList) % 2 > 0):\n",
    "    ## If number of elements in the list are odd, then get the middle index and call that element as the median.\n",
    "    MedianIndex = len(AgesList) // 2 + 1\n",
    "    print ('This is the odd length list and median index is:', MedianIndex)\n",
    "    MedianValue = AgesList[MedianIndex - 1] ## Considering 0 based index in list.\n",
    "      \n",
    "  else: \n",
    "    ## If the number of elements in the list are even, then get the middle two numbers and take the mean of both and call it as median.\n",
    "    MedianIndex1 = len(AgesList) // 2 \n",
    "    MedianIndex2 = len(AgesList) // 2 + 1\n",
    "    MedianValue = (AgesList[MedianIndex1 - 1] + AgesList[MedianIndex2 - 1]) / 2\n",
    "\n",
    "  print ('Calculated Median Value:', MedianValue)\n",
    "\n",
    "  ## find the age which is larger than 90% of other ages\n",
    "  ## Let's identify the size of the list and accordingly create a list which has indexes\n",
    "  Index90_Start = len(AgesList) - len(AgesList) // 9\n",
    "  Index90_End = len(AgesList)\n",
    "\n",
    "  print ('Index90_Start;', Index90_Start)\n",
    "  print ('Index90_End;', Index90_End)\n",
    "\n",
    "  for k in range (Index90_Start, Index90_End): \n",
    "    Top90PercentList.append(AgesList[k])\n",
    " \n",
    "  return MedianValue,Top90PercentList\n",
    "\n",
    "\n",
    "## Invoke the function with the list we have\n",
    "\n",
    "MedianAge, Top90AgeList = CalculateMedianTop90Percent(ages)\n",
    "\n",
    "print ('Median Age is:',  MedianAge )\n",
    "\n",
    "for AgeTop90 in Top90AgeList:\n",
    "  print ('Top 90 Age is:',  AgeTop90)\n"
   ]
  },
  {
   "cell_type": "markdown",
   "metadata": {
    "id": "jpfE1yCWzIyk"
   },
   "source": [
    "### Answer 1.2"
   ]
  },
  {
   "cell_type": "code",
   "execution_count": 41,
   "metadata": {
    "colab": {
     "base_uri": "https://localhost:8080/"
    },
    "executionInfo": {
     "elapsed": 1298,
     "status": "ok",
     "timestamp": 1663439385043,
     "user": {
      "displayName": "Mandar Khire",
      "userId": "16015479337741376859"
     },
     "user_tz": -330
    },
    "id": "bn4E9no8zOOP",
    "outputId": "8bf87db8-71af-4fc9-8237-0ec540d47927"
   },
   "outputs": [
    {
     "name": "stdout",
     "output_type": "stream",
     "text": [
      "Final Result is: 78\n"
     ]
    }
   ],
   "source": [
    "## define a function sum_test(), which is summation of a sequence numbers. It takes the argument n. \n",
    "## For example, when n = 5, the result should be 1 + 2 + 3 + 4 + 5 = 15;\n",
    "## call the function and print out the results when the n = 12.\n",
    "\n",
    "def sum_test(n):\n",
    "  # Initialize the return variable with value 0\n",
    "  Result = 0 \n",
    "  # Create a loop ranging from 1 till n+1 and keep adding the iterator in the Result variable\n",
    "  for i in range (1, n+1):\n",
    "    Result = Result + i\n",
    "  # Return the result\n",
    "  return Result\n",
    "\n",
    "## Call the function with parameter as 12\n",
    "ResultSum = sum_test(12)\n",
    "\n",
    "## Print the final result\n",
    "print ('Final Result is:', ResultSum)"
   ]
  },
  {
   "cell_type": "markdown",
   "metadata": {
    "id": "r46K32qVzO8l"
   },
   "source": [
    "### Answer 1.3"
   ]
  },
  {
   "cell_type": "code",
   "execution_count": 31,
   "metadata": {
    "colab": {
     "base_uri": "https://localhost:8080/"
    },
    "executionInfo": {
     "elapsed": 50516,
     "status": "ok",
     "timestamp": 1663437506311,
     "user": {
      "displayName": "Mandar Khire",
      "userId": "16015479337741376859"
     },
     "user_tz": -330
    },
    "id": "EoqQadxnzQen",
    "outputId": "6795218d-fc5b-4c02-a239-db02f0301478"
   },
   "outputs": [
    {
     "name": "stdout",
     "output_type": "stream",
     "text": [
      "p l e a s e _ f i l l _ y o u r _ s c o r e :77\n",
      "C\n",
      "p l e a s e _ f i l l _ y o u r _ s c o r e :88\n",
      "D\n",
      "p l e a s e _ f i l l _ y o u r _ s c o r e :99\n",
      "HD\n",
      "p l e a s e _ f i l l _ y o u r _ s c o r e :65\n",
      "P\n",
      "p l e a s e _ f i l l _ y o u r _ s c o r e :40\n",
      "F\n",
      "p l e a s e _ f i l l _ y o u r _ s c o r e :bye\n"
     ]
    }
   ],
   "source": [
    "##You are required to design the code (use while statement) could achieve the score grade mechanism\n",
    "## (control flow) which could allow you to:\n",
    "## input a score to variable score\n",
    "## return “F” when score < 60\n",
    "## return “P” when score >= 60 and < 70\n",
    "## return “C” when score >= 70 and score < 80\n",
    "## return “D” when score >= 80 and score < 90\n",
    "## return “HD” when score >= 90\n",
    "## In the code, you also need to judge whether the input for score is int type or not.\n",
    "##while True :\n",
    "##try :\n",
    "## s c o r e = int ( input ( ” p l e a s e _ f i l l _ y o u r _ s c o r e : ” ) )\n",
    "#c o n t i n u e t o w r i t e your code in below#\n",
    "\n",
    "\n",
    "while (True):\n",
    "  score = input ( \"p l e a s e _ f i l l _ y o u r _ s c o r e :\" )\n",
    "\n",
    "  # If score value entered is nun numeric - exit the loop.  \n",
    "  if (score.isnumeric() == False):\n",
    "    break\n",
    "  # Convert the value into integer and keep on comparing it\n",
    "  ScoreInt = int (score)\n",
    "  if (ScoreInt >= 90 ):\n",
    "    print (\"HD\")\n",
    "    continue\n",
    "  elif (ScoreInt >= 80):\n",
    "    print (\"D\")\n",
    "    continue\n",
    "  elif (ScoreInt >= 70):\n",
    "    print (\"C\")\n",
    "    continue\n",
    "  elif (ScoreInt >= 60):\n",
    "    print (\"P\")\n",
    "    continue\n",
    "  elif (ScoreInt < 60):\n",
    "    print (\"F\")\n",
    "    continue\n",
    "\n",
    "\n",
    "\n"
   ]
  },
  {
   "cell_type": "markdown",
   "metadata": {
    "id": "y-es_GpMzRRk"
   },
   "source": [
    "### Answer 1.4"
   ]
  },
  {
   "cell_type": "code",
   "execution_count": 42,
   "metadata": {
    "colab": {
     "base_uri": "https://localhost:8080/"
    },
    "executionInfo": {
     "elapsed": 346,
     "status": "ok",
     "timestamp": 1663439547380,
     "user": {
      "displayName": "Mandar Khire",
      "userId": "16015479337741376859"
     },
     "user_tz": -330
    },
    "id": "_hQftOL9zSwK",
    "outputId": "33e7a544-1dd8-4b36-dd7a-be7ba0069395"
   },
   "outputs": [
    {
     "name": "stdout",
     "output_type": "stream",
     "text": [
      "*\n",
      "**\n",
      "***\n",
      "****\n",
      "*****\n",
      "****\n",
      "***\n",
      "**\n",
      "*\n"
     ]
    }
   ],
   "source": [
    "#You are required to use while statement to print out below * mark in 9 lines (must use while\n",
    "#statement).\n",
    "#*\n",
    "#**\n",
    "#***\n",
    "#****\n",
    "#*****\n",
    "#****\n",
    "#***\n",
    "#**\n",
    "#*\n",
    "#num = 9\n",
    "#while num>0:\n",
    "# p r i n t ∗ mark i f not above 5\n",
    "#print ( ”∗”∗num)\n",
    "\n",
    "\n",
    "num = 9\n",
    "NoOfStars = 1\n",
    "Ascending = True\n",
    "while (num > 0):\n",
    "  num = num - 1\n",
    "  PrintStr = ''\n",
    "  IteratorNum = 0\n",
    "  while IteratorNum < NoOfStars:\n",
    "    IteratorNum = IteratorNum + 1\n",
    "    PrintStr = PrintStr + '*'\n",
    "  \n",
    "  print (PrintStr)\n",
    "  ## Keep ascending from 1 to 5\n",
    "  if (Ascending == True):\n",
    "    if (NoOfStars == 5):\n",
    "      # From no of stars as 5, keep descending\n",
    "      Ascending = False\n",
    "  \n",
    "  ## If ascending is true then increment the star count\n",
    "  if (Ascending == True):\n",
    "    NoOfStars = NoOfStars + 1\n",
    "  else:\n",
    "  ## If ascending is false then decrease the star count\n",
    "    NoOfStars = NoOfStars - 1\n",
    "\n",
    "\n"
   ]
  },
  {
   "cell_type": "markdown",
   "metadata": {
    "id": "vJcZLAmNzTiU"
   },
   "source": [
    "### Answer 1.5"
   ]
  },
  {
   "cell_type": "code",
   "execution_count": 33,
   "metadata": {
    "colab": {
     "base_uri": "https://localhost:8080/"
    },
    "executionInfo": {
     "elapsed": 409,
     "status": "ok",
     "timestamp": 1663437704734,
     "user": {
      "displayName": "Mandar Khire",
      "userId": "16015479337741376859"
     },
     "user_tz": -330
    },
    "id": "hMIm3s_kf2qD",
    "outputId": "57899d36-90ee-4591-9586-52b00698d43c"
   },
   "outputs": [
    {
     "name": "stdout",
     "output_type": "stream",
     "text": [
      "Original String is: aAsmr3idd4bgs7Dlsf9eAF\n",
      "Numerical String is: 3479\n"
     ]
    }
   ],
   "source": [
    "#Given a string variable test, for example, test = \"aAsmr3idd4bgs7Dlsf9eAF\", using code with\n",
    "#for statement to find out all the digits (for example, here it is ”3479”) in the string variable test,\n",
    "#and store those digits (here it is ”3479”) into another string variable result, then print result.\n",
    "#You can implement it as a function.\n",
    "\n",
    "test = \"aAsmr3idd4bgs7Dlsf9eAF\"\n",
    "\n",
    "def SeperateNumericString (TestString):\n",
    "\n",
    "  NumericString = ''\n",
    "\n",
    "  for IteratorNum in range (len(TestString)):\n",
    "    if (TestString[IteratorNum].isnumeric() == True):\n",
    "      NumericString = NumericString + TestString[IteratorNum]\n",
    "  \n",
    "  return NumericString\n",
    "\n",
    "\n",
    "RetNumericString = SeperateNumericString (test)\n",
    "\n",
    "print ('Original String is:', test)\n",
    "print ('Numerical String is:', RetNumericString)\n",
    "\n",
    "\n"
   ]
  },
  {
   "cell_type": "markdown",
   "metadata": {
    "id": "6q-Ohv7OzVR1"
   },
   "source": [
    "### Answer 1.6"
   ]
  },
  {
   "cell_type": "code",
   "execution_count": 1,
   "metadata": {
    "colab": {
     "base_uri": "https://localhost:8080/"
    },
    "executionInfo": {
     "elapsed": 391,
     "status": "ok",
     "timestamp": 1662900836283,
     "user": {
      "displayName": "Mandar Khire",
      "userId": "16015479337741376859"
     },
     "user_tz": -330
    },
    "id": "6fH88afMzWrY",
    "outputId": "4363092f-a3d4-4cfa-f95e-5e70211edc48"
   },
   "outputs": [
    {
     "name": "stdout",
     "output_type": "stream",
     "text": [
      "[0, 10, 21, 29]\n"
     ]
    }
   ],
   "source": [
    "#Define a function find_all, which could find the first index of substring \"hello\" in the input\n",
    "#string such as \"helloworldhelloPythonhelloc++hellojava\", the return value of the function is a\n",
    "#list of the first index, such as [0; 10; 21; 29].\n",
    "\n",
    "\n",
    "SearchString = \"helloworldhelloPythonhelloc++hellojava\"\n",
    "SearchPattern = \"hello\"\n",
    "\n",
    "def ImplementFindAll (SearchStringParam, SearchPatternParam):\n",
    "\n",
    "  IndexList = []\n",
    "\n",
    "  SearchStartIndex = 0\n",
    "\n",
    "  while True:\n",
    "\n",
    "    IndexNum = SearchStringParam.find(SearchPatternParam,SearchStartIndex)\n",
    "\n",
    "    if (IndexNum != -1):\n",
    "      SearchStartIndex = IndexNum + len(SearchPatternParam)\n",
    "      IndexList.append(IndexNum)\n",
    "    else:\n",
    "      return IndexList\n",
    "      \n",
    "\n",
    "ReturnIndexList = ImplementFindAll(SearchString,SearchPattern)\n",
    "\n",
    "print (ReturnIndexList)\n"
   ]
  },
  {
   "cell_type": "code",
   "execution_count": null,
   "metadata": {
    "id": "ATq-Su_9jiwQ"
   },
   "outputs": [],
   "source": []
  },
  {
   "cell_type": "markdown",
   "metadata": {
    "id": "7J_bHzwYzXSd"
   },
   "source": [
    "### Answer 1.7"
   ]
  },
  {
   "cell_type": "code",
   "execution_count": 2,
   "metadata": {
    "colab": {
     "base_uri": "https://localhost:8080/"
    },
    "executionInfo": {
     "elapsed": 432,
     "status": "ok",
     "timestamp": 1662901577215,
     "user": {
      "displayName": "Mandar Khire",
      "userId": "16015479337741376859"
     },
     "user_tz": -330
    },
    "id": "JQ6F0wGzzYoj",
    "outputId": "ef65305f-a7cb-4217-fd2d-d10c33066f3a"
   },
   "outputs": [
    {
     "name": "stdout",
     "output_type": "stream",
     "text": [
      "Name : Daniel age :50#\n",
      "Name : Daniel age :60#\n"
     ]
    }
   ],
   "source": [
    "\n",
    "#Define a class Person with two variables on name and age. In the class Person, there are two methods\n",
    "#for you to implement:\n",
    "#• one is Get_age(),\n",
    "#• another one is Set_age().\n",
    "#So that your code can achieve below:\n",
    "#d a n i e l = Person ( ’ Daniel ’ , 5 0 )\n",
    "#print ( d a n i e l )\n",
    "#The r e s u l t o f above p r i n t s h o u l d be : name : Daniel , age :50#\n",
    "#d a n i e l . Set_age ( 6 0 )\n",
    "#print ( d a n i e l . Get_age ( ) )\n",
    "#The r e s u l t o f above p r i n t s h o u l d be : 60#\n",
    "#print ( d a n i e l )\n",
    "#The r e s u l t o f above p r i n t s h o u l d be : name : Daniel , age :60#\n",
    "\n",
    "\n",
    "# Person class with init method\n",
    "class Person:\n",
    " \n",
    "  # init method or constructor\n",
    "  def __init__(self, name, age):\n",
    "    self.name = name\n",
    "    self.age = age\n",
    "  \n",
    "  def __str__(self):\n",
    "    StringRet = 'Name : ' + self.name + ' age :' + str(self.age) + '#'\n",
    "\n",
    "    return StringRet\n",
    " \n",
    "    # Set Method\n",
    "  def Set_age(self, age):\n",
    "    self.age = age\n",
    "\n",
    "daniel = Person('Daniel', 50)\n",
    "\n",
    "print (daniel)\n",
    "\n",
    "daniel.Set_age (60)\n",
    "\n",
    "print (daniel)"
   ]
  },
  {
   "cell_type": "markdown",
   "metadata": {
    "id": "UyF40fLKzZWV"
   },
   "source": [
    "### Answer 1.8"
   ]
  },
  {
   "cell_type": "code",
   "execution_count": 39,
   "metadata": {
    "colab": {
     "base_uri": "https://localhost:8080/"
    },
    "executionInfo": {
     "elapsed": 380,
     "status": "ok",
     "timestamp": 1663438952844,
     "user": {
      "displayName": "Mandar Khire",
      "userId": "16015479337741376859"
     },
     "user_tz": -330
    },
    "id": "n44tk4Cjza52",
    "outputId": "4dd1c4de-53ce-4250-b28a-ed0e89e2e159"
   },
   "outputs": [
    {
     "name": "stdout",
     "output_type": "stream",
     "text": [
      "Entering Function: [1, 2, 3]\n",
      "Entering Function: [2, 3]\n",
      "Entering Function: [3]\n",
      "Within iteration: [[3]]\n",
      "Returning: [[2, 3]]\n",
      "Entering Function: [2]\n",
      "Within iteration: [[2]]\n",
      "Returning: [[2, 3], [3, 2]]\n",
      "Within iteration: [[2, 3], [3, 2]]\n",
      "Returning: [[1, 2, 3], [1, 3, 2]]\n",
      "Entering Function: [1, 3]\n",
      "Entering Function: [3]\n",
      "Within iteration: [[3]]\n",
      "Returning: [[1, 3]]\n",
      "Entering Function: [1]\n",
      "Within iteration: [[1]]\n",
      "Returning: [[1, 3], [3, 1]]\n",
      "Within iteration: [[1, 3], [3, 1]]\n",
      "Returning: [[1, 2, 3], [1, 3, 2], [2, 1, 3], [2, 3, 1]]\n",
      "Entering Function: [1, 2]\n",
      "Entering Function: [2]\n",
      "Within iteration: [[2]]\n",
      "Returning: [[1, 2]]\n",
      "Entering Function: [1]\n",
      "Within iteration: [[1]]\n",
      "Returning: [[1, 2], [2, 1]]\n",
      "Within iteration: [[1, 2], [2, 1]]\n",
      "Returning: [[1, 2, 3], [1, 3, 2], [2, 1, 3], [2, 3, 1], [3, 1, 2], [3, 2, 1]]\n",
      "Final Result: [[1, 2, 3], [1, 3, 2], [2, 1, 3], [2, 3, 1], [3, 1, 2], [3, 2, 1]]\n",
      "Entering Function: [1]\n",
      "Final Result: [[1]]\n"
     ]
    }
   ],
   "source": [
    "#Given the array nums with integers, return all possible permutations of the array. You can return the\n",
    "#answer in any order by defining the function permute.\n",
    "#Details as below:\n",
    "#Input: nums = [1,2,3]\n",
    "#Output: [[1,2,3],[1,3,2],[2,1,3],[2,3,1],[3,1,2],[3,2,1]]\n",
    "#Input: nums = [1]\n",
    "#Output: [[1]]\n",
    "#You code should also check and ensure that all the integers in nums are unique.\n",
    "\n",
    "\n",
    "\n",
    "def getPermutations(array):\n",
    "    print ('Entering Function:', array)\n",
    "    ## If length of array is 1, simply return the same array\n",
    "    if len(array) == 1:\n",
    "        return [array]\n",
    "    \n",
    "    ## If array is more than 1, define an empty array which would be returned finally.\n",
    "    permutations = [] \n",
    "    for i in range(len(array)): \n",
    "        ## Make a recursive call to the same function by splitting the array\n",
    "        perms = getPermutations(array[:i] + array[i+1:])  \n",
    "        print ('Within iteration:',perms)\n",
    "        for p in perms:\n",
    "            ## Keep appending in the final return array\n",
    "            permutations.append([array[i], *p])\n",
    "        print ('Returning:',permutations)\n",
    "    return permutations\n",
    "\n",
    "## Invoke the function with [1,2,3]\n",
    "nums = [1,2,3]\n",
    "RetLst = getPermutations (nums)\n",
    "print ('Final Result:',RetLst)\n",
    "\n",
    "## Invoke the function with [1]\n",
    "nums = [1]\n",
    "RetLst = getPermutations (nums)\n",
    "print ('Final Result:',RetLst)"
   ]
  },
  {
   "cell_type": "markdown",
   "metadata": {
    "id": "FMVh5fAuH0tX"
   },
   "source": [
    "## PART 2 - Python foundations for Data Science\n",
    "\n",
    "### Which version of Question 2 for you"
   ]
  },
  {
   "cell_type": "code",
   "execution_count": 1,
   "metadata": {
    "colab": {
     "base_uri": "https://localhost:8080/"
    },
    "executionInfo": {
     "elapsed": 5,
     "status": "ok",
     "timestamp": 1663429840816,
     "user": {
      "displayName": "Mandar Khire",
      "userId": "16015479337741376859"
     },
     "user_tz": -330
    },
    "id": "Vg7uYUo_2yeQ",
    "outputId": "aa3cc1ed-4bd2-4b46-85ee-3eee0d12164a"
   },
   "outputs": [
    {
     "name": "stdout",
     "output_type": "stream",
     "text": [
      " PART 2 - Version of Q2 for me - Student ID:  223019651\n",
      "version II\n"
     ]
    }
   ],
   "source": [
    "## Which version of Q2 for you:\n",
    "\n",
    "MyStudentId = 223019651\n",
    "\n",
    "print(' PART 2 - Version of Q2 for me - Student ID: ', MyStudentId)\n",
    "\n",
    "def sum_digits (n):\n",
    "  r = 0\n",
    "\n",
    "  while n:\n",
    "    r,n = r + n % 10,n // 10\n",
    "  return r\n",
    "\n",
    "def check_studentid (studentid):\n",
    "  x = sum_digits (studentid)\n",
    "  if x % 2 == 0:\n",
    "    print( 'version I')\n",
    "  else :\n",
    "    print( 'version II')\n",
    "\n",
    "check_studentid (MyStudentId)\n",
    "#r e p l a c e the value by your student ID"
   ]
  },
  {
   "cell_type": "markdown",
   "metadata": {
    "id": "Yu1gN1-SKOXh"
   },
   "source": [
    "### Question 2 (Version II)\n",
    "\n",
    "#### Hill climb on linear regression"
   ]
  },
  {
   "cell_type": "code",
   "execution_count": 15,
   "metadata": {
    "colab": {
     "base_uri": "https://localhost:8080/",
     "height": 295
    },
    "executionInfo": {
     "elapsed": 466,
     "status": "ok",
     "timestamp": 1663436371604,
     "user": {
      "displayName": "Mandar Khire",
      "userId": "16015479337741376859"
     },
     "user_tz": -330
    },
    "id": "uobv3Jo6I3yE",
    "outputId": "8b03b9eb-f386-4a9b-a69e-da9bd58c9d0c"
   },
   "outputs": [
    {
     "data": {
      "image/png": "[encoded data removed]",
      "text/plain": [
       "<Figure size 432x288 with 1 Axes>"
      ]
     },
     "metadata": {
      "needs_background": "light"
     },
     "output_type": "display_data"
    }
   ],
   "source": [
    "import numpy as np\n",
    "import pandas as pd\n",
    "import matplotlib.pyplot as plt\n",
    "import seaborn as sns\n",
    "\n",
    "## Definte arbritrary value of X and derive the linear value of Y as per given equation\n",
    "\n",
    "X = np . linspace( 0 , 3 , 30)\n",
    "Y = 2.5 * np.linspace( 0 , 3 , 30) + 5 * np.random.rand(30)\n",
    "\n",
    "## Plot the actual value of Y as against X\n",
    "fig , ax = plt.subplots()\n",
    "ax.set_title('Regressionline to fit' )\n",
    "ax.set_ylabel('Y')\n",
    "ax.set_xlabel( 'X' )\n",
    "ax.plot(X, Y, label = 'line to fit' )\n",
    "ax.legend ()\n",
    "plt.show ()"
   ]
  },
  {
   "cell_type": "code",
   "execution_count": 27,
   "metadata": {
    "executionInfo": {
     "elapsed": 362,
     "status": "ok",
     "timestamp": 1663436593044,
     "user": {
      "displayName": "Mandar Khire",
      "userId": "16015479337741376859"
     },
     "user_tz": -330
    },
    "id": "QuXTymmBLpbG"
   },
   "outputs": [],
   "source": [
    "## Definte a function hill_climb\n",
    "## This function will define the start value of a as 1\n",
    "## It will try to obtain the value of Y with value as a and then arbitrarily increment a with 0.1\n",
    "## If the error is reducing, it will go with incremented value.\n",
    "## If the error is increasing, then it will decrease the value of a by 0.1\n",
    "## This will go on till the iterations specified in the param n.\n",
    "## Return value will be the optimized value of a\n",
    "\n",
    "def hill_climb (X, Y, n):\n",
    "\n",
    "  a = np.random.rand(1) ## random value\n",
    "  \n",
    "  for nIter in range (n):\n",
    "\n",
    "    ## Calculate Yfit for the value of a\n",
    "    Yfit = a * X\n",
    "    ## Calculate the error for the value of a\n",
    "    ErrorOld = Calc_RMSE (Yfit, Y)\n",
    "\n",
    "    a_adj = a + 0.1 ## Slightly increase the value of a and call it as a_adj\n",
    "    \n",
    "    YfitNew = (a_adj) * X ## Calculate the new value of Y after adjusting a \n",
    "    ErrorNew = Calc_RMSE (YfitNew, Y) ## Calculate the new Error\n",
    "\n",
    "    print (\"Iteration:\", nIter,\"RMSE:\", ErrorOld, \"Value of a:\", a)\n",
    "\n",
    "    if (ErrorNew - ErrorOld) < 0: \n",
    "      ## New Error is less than earlier error - then we are going in right direction.\n",
    "      ## Replace the Error with ErrorNew\n",
    "      ## Use this value of a in the further iteration\n",
    "      a = a_adj\n",
    "      ErrorOld = ErrorNew\n",
    "    else:\n",
    "      a = a - 0.1\n",
    "    \n",
    "  ## After n iterations, return the final falue of a\n",
    "  return a"
   ]
  },
  {
   "cell_type": "code",
   "execution_count": 28,
   "metadata": {
    "executionInfo": {
     "elapsed": 359,
     "status": "ok",
     "timestamp": 1663436598946,
     "user": {
      "displayName": "Mandar Khire",
      "userId": "16015479337741376859"
     },
     "user_tz": -330
    },
    "id": "AeSkcq16XyAK"
   },
   "outputs": [],
   "source": [
    "## This function identified the Root Mean Square Value of Yfit and Y numpy arrays.\n",
    "\n",
    "def Calc_RMSE (Yfit, Y):\n",
    "  # Find the mean and square of the difference between Yfit and Y\n",
    "  MSE = np.square(np.subtract(Yfit,Y)).mean() \n",
    "  ## Get the root of the MSE\n",
    "  RMSE = np.sqrt(MSE)\n",
    "\n",
    "  return RMSE ## Return the RMSE\n",
    "\n"
   ]
  },
  {
   "cell_type": "code",
   "execution_count": 43,
   "metadata": {
    "colab": {
     "base_uri": "https://localhost:8080/"
    },
    "executionInfo": {
     "elapsed": 336,
     "status": "ok",
     "timestamp": 1663442425242,
     "user": {
      "displayName": "Mandar Khire",
      "userId": "16015479337741376859"
     },
     "user_tz": -330
    },
    "id": "Ox7-U8H0MZer",
    "outputId": "9d3df05c-5274-4cb3-f5ae-75333c586daf"
   },
   "outputs": [
    {
     "name": "stdout",
     "output_type": "stream",
     "text": [
      "Iteration: 0 RMSE: 6.476888152236883 Value of a: [0.04911617]\n",
      "Iteration: 1 RMSE: 6.309345601624318 Value of a: [0.14911617]\n",
      "Iteration: 2 RMSE: 6.142201412168474 Value of a: [0.24911617]\n",
      "Iteration: 3 RMSE: 5.975489012399843 Value of a: [0.34911617]\n",
      "Iteration: 4 RMSE: 5.809245576642182 Value of a: [0.44911617]\n",
      "Iteration: 5 RMSE: 5.643512548486171 Value of a: [0.54911617]\n",
      "Iteration: 6 RMSE: 5.478336251350733 Value of a: [0.64911617]\n",
      "Iteration: 7 RMSE: 5.3137686027493665 Value of a: [0.74911617]\n",
      "Iteration: 8 RMSE: 5.149867952387218 Value of a: [0.84911617]\n",
      "Iteration: 9 RMSE: 4.986700068506579 Value of a: [0.94911617]\n",
      "Iteration: 10 RMSE: 4.824339302144982 Value of a: [1.04911617]\n",
      "Iteration: 11 RMSE: 4.662869965370746 Value of a: [1.14911617]\n",
      "Iteration: 12 RMSE: 4.502387967340335 Value of a: [1.24911617]\n",
      "Iteration: 13 RMSE: 4.343002761420271 Value of a: [1.34911617]\n",
      "Iteration: 14 RMSE: 4.1848396678625335 Value of a: [1.44911617]\n",
      "Iteration: 15 RMSE: 4.028042649784895 Value of a: [1.54911617]\n",
      "Iteration: 16 RMSE: 3.872777635498204 Value of a: [1.64911617]\n",
      "Iteration: 17 RMSE: 3.7192364972266314 Value of a: [1.74911617]\n",
      "Iteration: 18 RMSE: 3.567641814048714 Value of a: [1.84911617]\n",
      "Iteration: 19 RMSE: 3.418252563394578 Value of a: [1.94911617]\n",
      "Iteration: 20 RMSE: 3.2713708966910224 Value of a: [2.04911617]\n",
      "Iteration: 21 RMSE: 3.1273501535707617 Value of a: [2.14911617]\n",
      "Iteration: 22 RMSE: 2.9866042431362967 Value of a: [2.24911617]\n",
      "Iteration: 23 RMSE: 2.8496184498909707 Value of a: [2.34911617]\n",
      "Iteration: 24 RMSE: 2.7169615745455293 Value of a: [2.44911617]\n",
      "Iteration: 25 RMSE: 2.589299049533184 Value of a: [2.54911617]\n",
      "Iteration: 26 RMSE: 2.467406213218366 Value of a: [2.64911617]\n",
      "Iteration: 27 RMSE: 2.352180213525818 Value of a: [2.74911617]\n",
      "Iteration: 28 RMSE: 2.2446479847706082 Value of a: [2.84911617]\n",
      "Iteration: 29 RMSE: 2.1459664202698425 Value of a: [2.94911617]\n",
      "Iteration: 30 RMSE: 2.0574094539190275 Value of a: [3.04911617]\n",
      "Iteration: 31 RMSE: 1.9803358119227261 Value of a: [3.14911617]\n",
      "Iteration: 32 RMSE: 1.9161316963221802 Value of a: [3.24911617]\n",
      "Iteration: 33 RMSE: 1.866125909491642 Value of a: [3.34911617]\n",
      "Iteration: 34 RMSE: 1.8314818113375089 Value of a: [3.44911617]\n",
      "Iteration: 35 RMSE: 1.8130802031909277 Value of a: [3.54911617]\n",
      "Iteration: 36 RMSE: 1.8114161597778162 Value of a: [3.64911617]\n",
      "Iteration: 37 RMSE: 1.8130802031909277 Value of a: [3.54911617]\n",
      "Iteration: 38 RMSE: 1.8114161597778162 Value of a: [3.64911617]\n",
      "Iteration: 39 RMSE: 1.8130802031909277 Value of a: [3.54911617]\n",
      "Iteration: 40 RMSE: 1.8114161597778162 Value of a: [3.64911617]\n",
      "Iteration: 41 RMSE: 1.8130802031909277 Value of a: [3.54911617]\n",
      "Iteration: 42 RMSE: 1.8114161597778162 Value of a: [3.64911617]\n",
      "Iteration: 43 RMSE: 1.8130802031909277 Value of a: [3.54911617]\n",
      "Iteration: 44 RMSE: 1.8114161597778162 Value of a: [3.64911617]\n",
      "Iteration: 45 RMSE: 1.8130802031909277 Value of a: [3.54911617]\n",
      "Iteration: 46 RMSE: 1.8114161597778162 Value of a: [3.64911617]\n",
      "Iteration: 47 RMSE: 1.8130802031909277 Value of a: [3.54911617]\n",
      "Iteration: 48 RMSE: 1.8114161597778162 Value of a: [3.64911617]\n",
      "Iteration: 49 RMSE: 1.8130802031909277 Value of a: [3.54911617]\n",
      "Optimum value of a: [3.64911617]  post iterations count: 50\n"
     ]
    }
   ],
   "source": [
    "## Invoke the function hill_climb to obtain the right value of a\n",
    "\n",
    "nIterations = 50\n",
    "\n",
    "a_return = hill_climb (X,Y, nIterations)\n",
    "\n",
    "print ('Optimum value of a:', a_return, ' post iterations count:', nIterations)"
   ]
  },
  {
   "cell_type": "code",
   "execution_count": 44,
   "metadata": {
    "colab": {
     "base_uri": "https://localhost:8080/",
     "height": 295
    },
    "executionInfo": {
     "elapsed": 486,
     "status": "ok",
     "timestamp": 1663442494427,
     "user": {
      "displayName": "Mandar Khire",
      "userId": "16015479337741376859"
     },
     "user_tz": -330
    },
    "id": "rSLUQoMoXiJa",
    "outputId": "e6ea8f77-dabf-4f6e-b558-ea0cc737d4d6"
   },
   "outputs": [
    {
     "data": {
      "image/png": "[encoded data removed]",
      "text/plain": [
       "<Figure size 432x288 with 1 Axes>"
      ]
     },
     "metadata": {
      "needs_background": "light"
     },
     "output_type": "display_data"
    }
   ],
   "source": [
    "## Plot the actual line v.s fitted line plot.\n",
    "## Use the a_return variable for this.\n",
    "\n",
    "fig , ax = plt.subplots()\n",
    "ax.set_title('Regression line to fit')\n",
    "ax.set_ylabel( 'Y' )\n",
    "ax.set_xlabel( 'X' )\n",
    "ax.plot (X, Y, label ='line to fit' )\n",
    "ax.plot (X, a_return * X, label = 'fitted line' )\n",
    "ax . legend ()\n",
    "plt . show ()"
   ]
  },
  {
   "cell_type": "code",
   "execution_count": null,
   "metadata": {
    "id": "e8O9P7gjd_pN"
   },
   "outputs": [],
   "source": []
  }
 ],
 "metadata": {
  "colab": {
   "authorship_tag": "ABX9TyN63pDTRyFqv/qEyjCkP3k7",
   "collapsed_sections": [],
   "provenance": []
  },
  "kernelspec": {
   "display_name": "Python 3 (ipykernel)",
   "language": "python",
   "name": "python3"
  },
  "language_info": {
   "codemirror_mode": {
    "name": "ipython",
    "version": 3
   },
   "file_extension": ".py",
   "mimetype": "text/x-python",
   "name": "python",
   "nbconvert_exporter": "python",
   "pygments_lexer": "ipython3",
   "version": "3.9.7"
  }
 },
 "nbformat": 4,
 "nbformat_minor": 1
}
